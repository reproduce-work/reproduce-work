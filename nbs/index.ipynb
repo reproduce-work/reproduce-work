{
 "cells": [
  {
   "cell_type": "markdown",
   "metadata": {},
   "source": [
    "# reproduce.work\n",
    "\n",
    "> An end-to-end engine for scientific publishing, enabled by a cross-platform computational reproducibility framework"
   ]
  },
  {
   "cell_type": "markdown",
   "metadata": {},
   "source": [
    "<div style=\"display:flex;\">\n",
    "<div style=\"flex:1; text-align: center;\">\n",
    "<a href=\"https://github.com/reproduce-work/sci-dev-kit\">\n",
    "<h1><span style=\"font-size:120px;\">📦</span> <br/>\n",
    "<span style=\"font-size: 20px; margin-top:-10px;\"><code>sci-dev-kit</code> ⬇️ </span>\n",
    "</h1>\n",
    "</a>\n",
    "</div>\n",
    "<div style=\"flex:1;  text-align: center;\">\n",
    "<a href=\"https://github.com/reproduce-work/reproduce-work/\">\n",
    "<h1><span style=\"font-size:120px;\">📃</span> <br/>\n",
    "<span style=\"font-size: 20px; margin-top:-10px;\">reproduce.work paper</span>\n",
    "</h1>\n",
    "</a>\n",
    "</div>\n",
    "<div style=\"flex:1; text-align: center;\">\n",
    "<a href=\"https://github.com/reproduce-work/reproduce-work/\">\n",
    "<h1><span style=\"font-size:120px;\">📀</span><br/>\n",
    "<div style=\"font-size: 20px\">\n",
    "<span style=\"margin-top:-10px;\"><code>reproduce_work</code></span> <br/>\n",
    "<span style=\"margin-top:-20px;\"> python package</span>\n",
    "</div>\n",
    "</h1>\n",
    "</a>\n",
    "</div>\n",
    "</div>"
   ]
  },
  {
   "cell_type": "markdown",
   "metadata": {},
   "source": [
    "<div style=\"text-align:center;\">\n",
    "<img src=\"img/nutshell.png\" width=\"800px\" />\n",
    "</div>"
   ]
  },
  {
   "cell_type": "markdown",
   "metadata": {},
   "source": []
  },
  {
   "cell_type": "markdown",
   "metadata": {},
   "source": []
  }
 ],
 "metadata": {
  "kernelspec": {
   "display_name": "Python 3 (ipykernel)",
   "language": "python",
   "name": "python3"
  }
 },
 "nbformat": 4,
 "nbformat_minor": 4
}
