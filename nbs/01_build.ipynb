{
 "cells": [
  {
   "cell_type": "markdown",
   "metadata": {},
   "source": [
    "# build\n",
    "\n",
    "> Fill in a module description here"
   ]
  },
  {
   "cell_type": "code",
   "execution_count": null,
   "metadata": {},
   "outputs": [],
   "source": [
    "#| default_exp build"
   ]
  },
  {
   "cell_type": "code",
   "execution_count": null,
   "metadata": {},
   "outputs": [],
   "source": [
    "#| hide\n",
    "from nbdev.showdoc import *"
   ]
  },
  {
   "cell_type": "code",
   "execution_count": null,
   "metadata": {},
   "outputs": [],
   "source": []
  },
  {
   "cell_type": "code",
   "execution_count": null,
   "metadata": {},
   "outputs": [],
   "source": [
    "#| export\n",
    "#from reproduce_work.core import read_base_config\n",
    "import argparse\n",
    "import toml\n",
    "import os\n",
    "from pathlib import Path\n",
    "from dotenv import load_dotenv\n",
    "\n",
    "load_dotenv()\n",
    "reproduce_dir = os.getenv(\"REPROWORKDIR\", Path(\"./reproduce\"))\n",
    "dev_image_tag = os.getenv(\"REPRODEVIMAGE\")\n",
    "\n",
    "\n",
    "def read_base_config():\n",
    "    with open(Path(reproduce_dir, 'config.toml'), 'r') as f:\n",
    "        base_config = toml.load(f)\n",
    "    return base_config\n",
    "\n",
    "def replace_inserts_with_toml_data(input_file, toml_file, output_file):\n",
    "    # Replace \\INSERT{var} with corresponding TOML data\n",
    "    # Load TOML data\n",
    "    with open(toml_file, 'r') as f:\n",
    "        data = toml.load(f)\n",
    "\n",
    "    # Read input text file\n",
    "    with open(input_file, 'r') as f:\n",
    "        content = f.read()\n",
    "\n",
    "    start_pos = 0\n",
    "    while True:\n",
    "        start_idx = content.find(r'\\INSERT{', start_pos)\n",
    "        if start_idx == -1:\n",
    "            break\n",
    "        end_idx = content.find('}', start_idx)\n",
    "        if end_idx == -1:\n",
    "            break\n",
    "\n",
    "        var_name = content[start_idx + 8:end_idx]\n",
    "        replacement_value = data.get(var_name, '')  # Use a default value if var_name is not in TOML data\n",
    "        print(f\"Replacing {var_name} with {replacement_value}\")\n",
    "        content = content[:start_idx] + replacement_value + content[end_idx + 1:]\n",
    "        start_pos = start_idx + len(replacement_value)\n",
    "\n",
    "    # Write modified content to output .tex file\n",
    "    with open(output_file, 'w') as f:\n",
    "        f.write(content)\n",
    "\n",
    "    return content\n",
    "\n",
    "\n",
    "\n",
    "\n",
    "\n",
    "def main():\n",
    "\n",
    "    base_config = read_base_config()\n",
    "\n",
    "    parser = argparse.ArgumentParser(description=\"Replace \\INSERT{var} in a text file using data from a TOML file.\")\n",
    "    parser.add_argument(\n",
    "        \"--input_file\", \n",
    "        help=\"Path to the input text file containing \\INSERT{var} placeholders.\",\n",
    "        default=base_config['repro']['files']['input']\n",
    "    )\n",
    "    parser.add_argument(\n",
    "        \"--toml_file\", \n",
    "        help=\"Path to the TOML file containing replacement data.\",\n",
    "        default=base_config['repro']['files']['dynamic']\n",
    "    )\n",
    "    parser.add_argument(\n",
    "        \"--output_file\", \n",
    "        help=\"Path to the output .tex file.\",\n",
    "        default=base_config['repro']['files']['output']\n",
    "    )\n",
    "    \n",
    "    args = parser.parse_args()\n",
    "    \n",
    "    content = replace_inserts_with_toml_data(args.input_file, args.toml_file, 'reproduce/tmp/lowdown_input.md')\n",
    "\n",
    "    print(f\"Output written to {args.output_file}\")\n",
    "\n",
    "\n",
    "#if __name__ == \"__main__\":\n",
    "#    main()\n",
    "\n",
    "\n",
    "# Example Usage\n",
    "#replace_inserts_with_toml_data('input.txt', 'data.toml', 'output.tex')\n"
   ]
  },
  {
   "cell_type": "code",
   "execution_count": null,
   "metadata": {},
   "outputs": [],
   "source": [
    "#import os\n",
    "#os.listdir(Path(os.getcwd()))"
   ]
  },
  {
   "cell_type": "code",
   "execution_count": null,
   "metadata": {},
   "outputs": [],
   "source": [
    "#| hide\n",
    "import nbdev; nbdev.nbdev_export()"
   ]
  },
  {
   "cell_type": "code",
   "execution_count": null,
   "metadata": {},
   "outputs": [],
   "source": []
  }
 ],
 "metadata": {
  "kernelspec": {
   "display_name": "python3",
   "language": "python",
   "name": "python3"
  }
 },
 "nbformat": 4,
 "nbformat_minor": 4
}
