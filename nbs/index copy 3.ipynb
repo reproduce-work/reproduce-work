{
 "cells": [
  {
   "cell_type": "code",
   "execution_count": null,
   "metadata": {},
   "outputs": [],
   "source": [
    "#| hide\n",
    "from reproduce_work.core import *\n",
    "from reproduce_work.build import *\n",
    "from reproduce_work.dynamic import *"
   ]
  },
  {
   "cell_type": "code",
   "execution_count": 1,
   "metadata": {},
   "outputs": [
    {
     "data": {
      "text/plain": [
       "4"
      ]
     },
     "execution_count": 1,
     "metadata": {},
     "output_type": "execute_result"
    }
   ],
   "source": [
    "2+2"
   ]
  },
  {
   "cell_type": "markdown",
   "metadata": {},
   "source": [
    "# reproduce-work\n",
    "\n",
    "> A docker based framework to facilitate cross-platform computational reproducibility in scientific publishing.\n"
   ]
  },
  {
   "cell_type": "markdown",
   "metadata": {},
   "source": [
    "### Main features:\n",
    "\n",
    "- ✅ Computational reproducibility across all major operating systems and platforms\n",
    "- ✅ A simple and intuitive API that fits into your existing workflow\n",
    "- ✅ Verifiable, traceable, reproducible results in scientific documents\n",
    "- ✅ Fancy PDF outputs\n",
    "\n",
    "### Roadmap features:\n",
    "\n",
    "- 🔳 Fancy HTML outputs\n",
    "- 🔳 Data validation, versioning, and provenance tracking\n",
    "- 🔳 Support for more target publishers and document formats\n",
    "- 🔳 Deep linking to verified open data and code\n",
    "\n",
    "## Current support\n",
    "\n",
    "### Workflows\n",
    "As of v0.0.1, reproduce.work has supprt for development/analysis workflows based on:\n",
    "\n",
    "- Python\n",
    "- Jupyter notebooks\n",
    "- R, RStudio\n",
    "- Julia\n",
    "- pandoc\n",
    "\n",
    "### Target publishers and document formats\n",
    "Primary outputs are currently PDF and HTML documents, with support for:\n",
    "\n",
    "- LaTeX\n",
    "- Jupyter notebooks\n",
    "- RMarkdown\n",
    "- pandoc markdown"
   ]
  },
  {
   "cell_type": "markdown",
   "metadata": {},
   "source": [
    "## Install"
   ]
  },
  {
   "cell_type": "markdown",
   "metadata": {},
   "source": [
    "```sh\n",
    "pip install reproduce_work\n",
    "```"
   ]
  },
  {
   "cell_type": "markdown",
   "metadata": {},
   "source": [
    "## How to use"
   ]
  },
  {
   "cell_type": "markdown",
   "metadata": {},
   "source": [
    "### Getting started"
   ]
  },
  {
   "cell_type": "code",
   "execution_count": null,
   "metadata": {},
   "outputs": [],
   "source": []
  },
  {
   "cell_type": "code",
   "execution_count": null,
   "metadata": {},
   "outputs": [],
   "source": []
  },
  {
   "cell_type": "code",
   "execution_count": null,
   "metadata": {},
   "outputs": [],
   "source": []
  },
  {
   "cell_type": "code",
   "execution_count": null,
   "metadata": {},
   "outputs": [
    {
     "name": "stdout",
     "output_type": "stream",
     "text": [
      "Setting reproduce.work config dir to ./reproduce\n",
      "Setting reproduce.work config dir to ./reproduce\n"
     ]
    }
   ],
   "source": [
    "import reproduce_work\n",
    "from reproduce_work.core import generate_config,read_base_config\n",
    "from reproduce_work.dynamic import publish_variable,publish_data,publish_file,register_notebook"
   ]
  },
  {
   "cell_type": "code",
   "execution_count": null,
   "metadata": {},
   "outputs": [
    {
     "data": {
      "text/plain": [
       "4"
      ]
     },
     "execution_count": 3,
     "metadata": {},
     "output_type": "execute_result"
    }
   ],
   "source": [
    "2+2"
   ]
  },
  {
   "cell_type": "markdown",
   "metadata": {},
   "source": [
    "Generate configuration at beginning of your project"
   ]
  },
  {
   "cell_type": "code",
   "execution_count": 4,
   "metadata": {},
   "outputs": [
    {
     "name": "stdout",
     "output_type": "stream",
     "text": [
      "Successfully generated reproduce.work configuration at reproduce/config.toml\n",
      "Successfully generated input file at reproduce/main.md\n",
      "Successfully generated latex template at reproduce/latex/template.tex\n"
     ]
    }
   ],
   "source": [
    "generate_config(inputs={\n",
    "    'authors': {\n",
    "        'author1': {\n",
    "            'name': 'Alex P. Miller',\n",
    "            'email': 'alex.miller@marshall.usc.edu',\n",
    "            'affiliation': 'USC Marshall School of Business'\n",
    "        }\n",
    "     },\n",
    "     'nbdev_project': True,\n",
    "     'dev_image_tag': 'reproduce-work-dev',\n",
    "     #'verbose': True # enables print statements whenever data are updated/saved\n",
    "})"
   ]
  },
  {
   "cell_type": "code",
   "execution_count": 5,
   "metadata": {},
   "outputs": [],
   "source": [
    "register_notebook('index.ipynb')"
   ]
  },
  {
   "cell_type": "markdown",
   "metadata": {},
   "source": [
    "Run code to analyze data and generate figures"
   ]
  },
  {
   "cell_type": "code",
   "execution_count": null,
   "metadata": {},
   "outputs": [],
   "source": []
  },
  {
   "cell_type": "code",
   "execution_count": null,
   "metadata": {},
   "outputs": [],
   "source": [
    "import numpy as np\n",
    "import seaborn as sns\n",
    "import matplotlib.pyplot as plt\n",
    "from scipy.stats import linregress\n",
    "\n",
    "%config InlineBackend.figure_formats = ['svg']\n",
    "plt.rcParams['figure.figsize'] = [6, 5]\n",
    "\n",
    "random_state = np.random.RandomState(552)\n",
    "\n",
    "# Generate data\n",
    "x = random_state.normal(size=100)\n",
    "y = 0.5*x + random_state.normal(scale=10, size=100)\n",
    "\n",
    "# Plot data with seaborn\n",
    "sns.set_style('white')\n",
    "\n",
    "# compute slope and stats\n",
    "slope, intercept, r_value, p_value, std_err = linregress(x, y)\n",
    "\n",
    "# plot x-y scatter data\n",
    "x_y_plot = sns.scatterplot(x=x, y=y)\n",
    "\n",
    "# plot best fit line\n",
    "x_y_plot.plot(x, intercept + slope*x, color='black')\n",
    "\n",
    "# Compute p-value of slope \n",
    "# render p-value with 3 decimal places and no scientific notation\n",
    "p_value_str = f'{p_value:.3f}'\n",
    "\n",
    "# add p-value and slope to plot\n",
    "x_y_plot.text(x=4.5, y=25, s='β')\n",
    "x_y_plot.text(x=4.75, y=20, s=f'p-value: {p_value_str}')\n",
    "x_y_plot.text(x=4.75, y=15, s=f'slope: {slope:.3f}')\n",
    "x_y_plot.text(x=4.75, y=10, s=f'intercept: {intercept:.3f}')\n",
    "\n",
    "# Set title\n",
    "x_y_plot.set_title('Reproducibly Simulated Data')\n",
    "\n",
    "# save figure\n",
    "plt.savefig('reproducible_plot.svg', bbox_inches='tight')"
   ]
  },
  {
   "cell_type": "markdown",
   "metadata": {},
   "source": [
    "There are three primary types:\n",
    "\n",
    "- named variables\n",
    "    - defined via: `reproduce_work.publish_variable`\n",
    "    - Designed to be used to facilitate production and review of reproducible results\n",
    "- data assignments\n",
    "    - defined via: `reproduce_work.publish_data`\n",
    "    - Designed to standardize data management and facilitate data validation\n",
    "- file assignments\n",
    "    - defined via: `reproduce_work.publish_file`\n",
    "    - Designed to standardize file management and facilitate file validation, allowing for reproducible workflows for arbitrarily complex data structures\n",
    "\n"
   ]
  },
  {
   "cell_type": "code",
   "execution_count": null,
   "metadata": {},
   "outputs": [],
   "source": [
    "publish_variable(p_value_str, \"p_value_str\", metadata={\n",
    "    'description': 'The p-value of the coefficient on the slope of the linear regression line.',\n",
    "})"
   ]
  },
  {
   "cell_type": "code",
   "execution_count": null,
   "metadata": {},
   "outputs": [],
   "source": [
    "publish_data(x, \"x\", metadata={\n",
    "    'description': 'The simulated X data',\n",
    "    'units': 'kilograms'\n",
    "})"
   ]
  },
  {
   "cell_type": "code",
   "execution_count": null,
   "metadata": {},
   "outputs": [],
   "source": [
    "publish_data(y, \"y\", metadata={\n",
    "    'description': 'The simulated Y data',\n",
    "    'units': 'meters'\n",
    "})"
   ]
  },
  {
   "cell_type": "code",
   "execution_count": null,
   "metadata": {},
   "outputs": [],
   "source": [
    "publish_file('reproducible_plot.svg', metadata={\n",
    "    'description': 'A plot of X vs Y',\n",
    "})"
   ]
  },
  {
   "cell_type": "code",
   "execution_count": null,
   "metadata": {},
   "outputs": [],
   "source": [
    "base_config = read_base_config()\n",
    "with open(base_config['repro']['files']['dynamic'], 'r') as f:\n",
    "    print(f.read())"
   ]
  },
  {
   "cell_type": "markdown",
   "metadata": {},
   "source": [
    "Decide which data, figures, and files to save for publication."
   ]
  },
  {
   "cell_type": "code",
   "execution_count": null,
   "metadata": {},
   "outputs": [],
   "source": []
  },
  {
   "cell_type": "code",
   "execution_count": null,
   "metadata": {},
   "outputs": [],
   "source": [
    "#| hide\n",
    "import nbdev; nbdev.nbdev_export()"
   ]
  },
  {
   "cell_type": "code",
   "execution_count": null,
   "metadata": {},
   "outputs": [],
   "source": []
  }
 ],
 "metadata": {
  "kernelspec": {
   "display_name": "Python 3 (ipykernel)",
   "language": "python",
   "name": "python3"
  }
 },
 "nbformat": 4,
 "nbformat_minor": 4
}
