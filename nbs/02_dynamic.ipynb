{
 "cells": [
  {
   "cell_type": "markdown",
   "metadata": {},
   "source": [
    "# save dynamic data\n",
    "\n",
    "> Fill in a module description here"
   ]
  },
  {
   "cell_type": "code",
   "execution_count": null,
   "metadata": {},
   "outputs": [],
   "source": [
    "#| default_exp dynamic"
   ]
  },
  {
   "cell_type": "code",
   "execution_count": 1,
   "metadata": {},
   "outputs": [],
   "source": [
    "#| hide\n",
    "from nbdev.showdoc import *"
   ]
  },
  {
   "cell_type": "code",
   "execution_count": 2,
   "metadata": {},
   "outputs": [
    {
     "name": "stdout",
     "output_type": "stream",
     "text": [
      "Setting reproduce.work config dir to ./reproduce\n"
     ]
    }
   ],
   "source": [
    "#| export\n",
    "import inspect\n",
    "import datetime\n",
    "import os\n",
    "import sys\n",
    "import platform\n",
    "from reproduce_work.core import read_base_config, requires_config, generate_config,reproduce_dir,update_watched_files,validate_base_config\n",
    "\n",
    "VAR_REGISTRY = {}\n"
   ]
  },
  {
   "cell_type": "code",
   "execution_count": 3,
   "metadata": {},
   "outputs": [],
   "source": [
    "#generate_config()"
   ]
  },
  {
   "cell_type": "code",
   "execution_count": null,
   "metadata": {},
   "outputs": [],
   "source": []
  },
  {
   "cell_type": "code",
   "execution_count": null,
   "metadata": {},
   "outputs": [],
   "source": []
  },
  {
   "cell_type": "code",
   "execution_count": 4,
   "metadata": {},
   "outputs": [],
   "source": [
    "#| export\n",
    "from pathlib import Path\n",
    "import hashlib\n",
    "import inspect\n",
    "import re\n",
    "import toml\n",
    "\n",
    "#def update_registry(var_name, value):\n",
    "    \n",
    "\n",
    "def get_cell_index():\n",
    "    \"\"\"\n",
    "    Get the current cell index in a Jupyter notebook environment.\n",
    "    If not in Jupyter, return None.\n",
    "    \"\"\"\n",
    "    try:\n",
    "        # Execute JavaScript to get the current cell index\n",
    "        get_ipython().run_cell_magic('javascript', '', 'IPython.notebook.kernel.execute(\\'current_cell_index = \\' + IPython.notebook.get_selected_index())')\n",
    "        return current_cell_index\n",
    "    except:\n",
    "        return None\n",
    "    \n",
    "def check_for_defintion_in_context(function_name='save'):\n",
    "    assert function_name in ['save', 'assign'], \"function_name must be either 'save' or 'assign'\"\n",
    "    \n",
    "    from IPython import get_ipython\n",
    "    ip = get_ipython()\n",
    "\n",
    "    # Check if in Jupyter environment\n",
    "    if ip is None:\n",
    "        \n",
    "        #fill this in \n",
    "        pass\n",
    "\n",
    "    else:\n",
    "        # Get the input history\n",
    "        #lineno = inspect.stack()[0].lineno\n",
    "        raw_hist = ip.history_manager.input_hist_raw\n",
    "        current_cell = raw_hist[-1]\n",
    "\n",
    "\n",
    "        matches = re.findall(rf\"{function_name}\\((.+?),\", current_cell)\n",
    "                \n",
    "        if matches:\n",
    "            # save call\n",
    "            defined_var = matches[0].strip()\n",
    "            definition_cell_content = ''\n",
    "            \n",
    "            for prior_cell in raw_hist[-2::-1]:\n",
    "                #print(prior_cell)\n",
    "                if f'{defined_var} =' in prior_cell or f'{defined_var}=' in prior_cell:\n",
    "                    definition_cell_content = prior_cell\n",
    "                    break\n",
    "            \n",
    "            # find the line number of the where the variable was defined\n",
    "            # Give a window of 5 lines around the definition call\n",
    "            def_cell_lines = definition_cell_content.split('\\n')\n",
    "            if len(def_cell_lines)>0:\n",
    "                lineno = None\n",
    "                for line_num, line in enumerate(def_cell_lines):\n",
    "                    if defined_var in line:\n",
    "                        lineno = line_num\n",
    "                        break\n",
    "                if lineno:\n",
    "                    definition_context = (\n",
    "                        '\\n'.join(def_cell_lines[max(0, lineno-5):lineno]) + \n",
    "                        '\\n🚩' + def_cell_lines[lineno] + '\\n' +\n",
    "                        '\\n'.join(def_cell_lines[lineno+1:min(len(def_cell_lines), lineno+5)])\n",
    "                    )\n",
    "                else:\n",
    "                    definition_context = None\n",
    "\n",
    "            else:\n",
    "                definition_context = None\n",
    "\n",
    "            \n",
    "            save_cell_lines = current_cell.split('\\n')\n",
    "            if len(save_cell_lines)>0:\n",
    "                save_lineno = None\n",
    "                for line_num, line in enumerate(save_cell_lines):\n",
    "                    if 'save(' in line:\n",
    "                        save_lineno = line_num\n",
    "                        break\n",
    "                \n",
    "                if save_lineno:\n",
    "                    save_context = (\n",
    "                        '\\n'.join(save_cell_lines[max(0, save_lineno-5):save_lineno]) + \n",
    "                        '\\n🚩' + save_cell_lines[save_lineno] + '\\n' +\n",
    "                        '\\n'.join(save_cell_lines[save_lineno+1:min(len(save_cell_lines), save_lineno+5)])\n",
    "                    )\n",
    "                else:\n",
    "                    save_context = None\n",
    "                \n",
    "            else:\n",
    "                save_context = None\n",
    "            \n",
    "\n",
    "        else:\n",
    "            # not a save call\n",
    "            save_context = None\n",
    "            definition_context = None\n",
    "\n",
    "        return(save_context, definition_context)\n",
    "\n",
    "\n",
    "class ReproduceWorkEncoder(toml.TomlEncoder):\n",
    "    def dump_str(self, v):\n",
    "        \"\"\"Encode a string.\"\"\"\n",
    "        if \"\\n\" in v:\n",
    "            return v  # If it's a multi-line string, return it as-is\n",
    "        return super().dump_str(v)\n",
    "    \n",
    "    def dump_value(self, v):\n",
    "        \"\"\"Determine the type of a Python object and serialize it accordingly.\"\"\"\n",
    "        if isinstance(v, str) and \"\\n\" in v:\n",
    "            return '\"\"\"\\n' + v.strip() + '\\n' + '\"\"\"'\n",
    "        return super().dump_value(v)\n",
    "\n",
    "@requires_config\n",
    "def save(content, filename, watch=True):\n",
    "    \"\"\"\n",
    "    Save content to a file and register metadata.\n",
    "    \"\"\"\n",
    "    # Save content to the specified file\n",
    "    with open(filename, 'w') as file:\n",
    "        file.write(content)\n",
    "\n",
    "    # Capture metadata\n",
    "    timestamp = datetime.datetime.now().isoformat()\n",
    "    script_filename = inspect.currentframe().f_back.f_code.co_filename\n",
    "    python_version = sys.version\n",
    "    platform_info = platform.platform()\n",
    "\n",
    "    # generate cryptographic hash of file contents\n",
    "    content_hash = hashlib.md5(content.encode('utf-8')).hexdigest()\n",
    "    timed_hash = hashlib.md5((content + timestamp).encode('utf-8')).hexdigest()\n",
    "         \n",
    "    save_context, definition_context = check_for_defintion_in_context(function_name='save')\n",
    "\n",
    "    # Store metadata\n",
    "    metadata = {\n",
    "        \"type\": \"file\",\n",
    "        \"timestamp\": timestamp,\n",
    "        #\"script_filename\": script_filename,\n",
    "        #\"python_version\": python_version,\n",
    "        #\"platform_info\": platform_info,\n",
    "        \"content_hash\": content_hash,\n",
    "        \"timed_hash\": timed_hash,\n",
    "        #\"save_context\": save_context,\n",
    "        #\"definition_context\": definition_context\n",
    "    }\n",
    "    cell_index = get_cell_index()\n",
    "    if cell_index:\n",
    "        metadata[\"cell_index\"] = cell_index\n",
    "\n",
    "    base_config = read_base_config()\n",
    "    #reproduce_work_watched_files = base_config['repro.files.watch']\n",
    "    \n",
    "\n",
    "    # For this demo, let's return the metadata (in practice, you might want to log it, save it to another file, etc.)\n",
    "    if watch:\n",
    "        update_watched_files(add=[filename])\n",
    "\n",
    "    # check if dynamic file exists\n",
    "    if not os.path.exists(Path(base_config['repro']['files']['dynamic'])):\n",
    "        with open(Path(base_config['repro']['files']['dynamic']), 'w') as file:\n",
    "            file.write(toml.dumps({}))\n",
    "\n",
    "    with open(Path(base_config['repro']['files']['dynamic']), 'r') as file:\n",
    "        dynamic_data = toml.load(file)\n",
    "        \n",
    "    dynamic_data[filename] = metadata\n",
    "\n",
    "    with open(Path(base_config['repro']['files']['dynamic']), 'w') as file:\n",
    "        toml.dump(dynamic_data, file, encoder=ReproduceWorkEncoder())\n",
    "\n",
    "    return metadata\n",
    "\n",
    "\n",
    "\n",
    "def reproducible(var_assignment_func):\n",
    "    \"\"\"\n",
    "    A decorator to register the line number and timestamp when a variable is assigned.\n",
    "    \"\"\"\n",
    "    def wrapper(value, var_name):\n",
    "        # Get the current frame and line number\n",
    "        frame = inspect.currentframe()\n",
    "        line_number = frame.f_back.f_lineno\n",
    "        \n",
    "        # Get the current timestamp\n",
    "        timestamp = datetime.datetime.now().isoformat()\n",
    "        \n",
    "        # Get the filename of the caller\n",
    "        filename = frame.f_back.f_code.co_filename\n",
    "        \n",
    "        # Execute the variable assignment function\n",
    "        var_assignment_func(var_name, value)\n",
    "\n",
    "        #save_context, definition_context = check_for_defintion_in_context(function_name='assign')\n",
    "        \n",
    "        # Register the variable name, line number, timestamp, and filename\n",
    "        VAR_REGISTRY[var_name] = {\n",
    "            \"type\": \"string\",\n",
    "            #\"line_number\": line_number,\n",
    "            \"timestamp\": timestamp,\n",
    "            #\"filename\": filename,\n",
    "            #\"save_context\": save_context,\n",
    "            #\"definition_context\": definition_context\n",
    "        }\n",
    "        cell_index = get_cell_index()\n",
    "        if cell_index:\n",
    "            VAR_REGISTRY[var_name][\"cell_index\"] = cell_index\n",
    "\n",
    "        if type(value) is not str:\n",
    "            value = str(value)\n",
    "            print(f\"WARNING: value of {var_name} was not a string. Converted to string: {value}.\")\n",
    "        \n",
    "        VAR_REGISTRY[var_name]['value'] = value\n",
    "\n",
    "        config = read_base_config()\n",
    "\n",
    "\n",
    "        # check if dynamic file exists\n",
    "        if not os.path.exists(Path(config['repro']['files']['dynamic'])):\n",
    "            with open(Path(config['repro']['files']['dynamic']), 'w') as file:\n",
    "                file.write(toml.dumps({}))\n",
    "        with open(Path(config['repro']['files']['dynamic']), 'r') as file:\n",
    "            dynamic_data = toml.load(file)\n",
    "            \n",
    "        dynamic_data[var_name] = VAR_REGISTRY[var_name]\n",
    "        \n",
    "        with open(Path(config['repro']['files']['dynamic']), 'w') as file:\n",
    "            toml.dump(dynamic_data, file, encoder=ReproduceWorkEncoder())\n",
    "\n",
    "        return value\n",
    "    return wrapper\n",
    "\n",
    "@reproducible\n",
    "def assign(value, var_name):\n",
    "    globals()[var_name] = value\n",
    "\n",
    "# Test code\n"
   ]
  },
  {
   "cell_type": "code",
   "execution_count": 5,
   "metadata": {},
   "outputs": [
    {
     "data": {
      "application/javascript": "IPython.notebook.kernel.execute('current_cell_index = ' + IPython.notebook.get_selected_index())",
      "text/plain": [
       "<IPython.core.display.Javascript object>"
      ]
     },
     "metadata": {},
     "output_type": "display_data"
    },
    {
     "name": "stdout",
     "output_type": "stream",
     "text": [
      "WARNING: value of test_var_timestamp_1 was not a string. Converted to string: 67890.\n"
     ]
    },
    {
     "data": {
      "application/javascript": "IPython.notebook.kernel.execute('current_cell_index = ' + IPython.notebook.get_selected_index())",
      "text/plain": [
       "<IPython.core.display.Javascript object>"
      ]
     },
     "metadata": {},
     "output_type": "display_data"
    },
    {
     "data": {
      "text/plain": [
       "{'test_var_timestamp_1': {'type': 'string',\n",
       "  'timestamp': '2023-10-02T00:45:15.324766',\n",
       "  'value': '67890'},\n",
       " 'test_var_timestamp_2': {'type': 'string',\n",
       "  'timestamp': '2023-10-02T00:45:15.342110',\n",
       "  'value': 'Hello again!'}}"
      ]
     },
     "execution_count": 5,
     "metadata": {},
     "output_type": "execute_result"
    }
   ],
   "source": [
    "assign(67890, \"test_var_timestamp_1\")  # This should capture this line number and timestamp\n",
    "assign(\"Hello again!\", \"test_var_timestamp_2\")  # And this line number and timestamp\n",
    "\n",
    "VAR_REGISTRY"
   ]
  },
  {
   "cell_type": "code",
   "execution_count": 17,
   "metadata": {},
   "outputs": [
    {
     "data": {
      "text/plain": [
       "{'test_var_timestamp_1': {'type': 'string',\n",
       "  'timestamp': '2023-10-02T00:42:18.461407',\n",
       "  'value': '67890'},\n",
       " 'test_var_timestamp_2': {'type': 'string',\n",
       "  'timestamp': '2023-10-02T00:42:18.472973',\n",
       "  'value': 'Hello again!'}}"
      ]
     },
     "execution_count": 17,
     "metadata": {},
     "output_type": "execute_result"
    }
   ],
   "source": [
    "VAR_REGISTRY"
   ]
  },
  {
   "cell_type": "code",
   "execution_count": 20,
   "metadata": {},
   "outputs": [
    {
     "name": "stdout",
     "output_type": "stream",
     "text": [
      "[test_var_timestamp_1]\n",
      "type = \"string\"\n",
      "timestamp = \"2023-10-02T00:42:18.461407\"\n",
      "value = \"67890\"\n",
      "\n",
      "[test_var_timestamp_2]\n",
      "type = \"string\"\n",
      "timestamp = \"2023-10-02T00:42:18.472973\"\n",
      "value = \"Hello again!\"\n",
      "\n"
     ]
    }
   ],
   "source": [
    "config = read_base_config()\n",
    "print(toml.dumps(VAR_REGISTRY))"
   ]
  },
  {
   "cell_type": "code",
   "execution_count": null,
   "metadata": {},
   "outputs": [],
   "source": []
  },
  {
   "cell_type": "code",
   "execution_count": null,
   "metadata": {},
   "outputs": [],
   "source": []
  },
  {
   "cell_type": "code",
   "execution_count": 7,
   "metadata": {},
   "outputs": [],
   "source": [
    "# Test the save function\n",
    "test_content = \"This is a test content for the save function.\""
   ]
  },
  {
   "cell_type": "code",
   "execution_count": 8,
   "metadata": {},
   "outputs": [
    {
     "data": {
      "application/javascript": "IPython.notebook.kernel.execute('current_cell_index = ' + IPython.notebook.get_selected_index())",
      "text/plain": [
       "<IPython.core.display.Javascript object>"
      ]
     },
     "metadata": {},
     "output_type": "display_data"
    },
    {
     "name": "stdout",
     "output_type": "stream",
     "text": [
      "Updated watched files to ['reproduce/main.md', 'reproduce/data.toml', 'reproduce/latex/template.tex', 'saved_file.txt']\n"
     ]
    },
    {
     "data": {
      "text/plain": [
       "{'type': 'file',\n",
       " 'timestamp': '2023-10-02T00:45:22.945064',\n",
       " 'python_version': '3.9.13 | packaged by conda-forge | (main, May 27 2022, 17:23:23) \\n[GCC 10.3.0]',\n",
       " 'platform_info': 'Linux-6.4.16-orbstack-00105-g14094bfeec09-aarch64-with-glibc2.35',\n",
       " 'content_hash': 'd1866c6aa7d10eb57a35cc88a77802c5',\n",
       " 'timed_hash': '701881869e4321228a9dbcf6d1b20d95'}"
      ]
     },
     "execution_count": 8,
     "metadata": {},
     "output_type": "execute_result"
    }
   ],
   "source": [
    "metadata = save(test_content, \"saved_file.txt\")\n",
    "metadata"
   ]
  },
  {
   "cell_type": "code",
   "execution_count": null,
   "metadata": {},
   "outputs": [],
   "source": []
  },
  {
   "cell_type": "code",
   "execution_count": null,
   "metadata": {},
   "outputs": [],
   "source": []
  },
  {
   "cell_type": "code",
   "execution_count": null,
   "metadata": {},
   "outputs": [],
   "source": []
  },
  {
   "cell_type": "code",
   "execution_count": 12,
   "metadata": {},
   "outputs": [],
   "source": [
    "# Test\n",
    "#x = 10\n",
    "#y = \"Hello\"\n",
    "#z = [1, 2, 3]\n",
    "#save()"
   ]
  },
  {
   "cell_type": "code",
   "execution_count": 13,
   "metadata": {},
   "outputs": [],
   "source": [
    "#| hide\n",
    "import nbdev; nbdev.nbdev_export()"
   ]
  },
  {
   "cell_type": "code",
   "execution_count": null,
   "metadata": {},
   "outputs": [],
   "source": []
  },
  {
   "cell_type": "code",
   "execution_count": null,
   "metadata": {},
   "outputs": [],
   "source": []
  }
 ],
 "metadata": {
  "kernelspec": {
   "display_name": "Python 3 (ipykernel)",
   "language": "python",
   "name": "python3"
  },
  "language_info": {
   "codemirror_mode": {
    "name": "ipython",
    "version": 3
   },
   "file_extension": ".py",
   "mimetype": "text/x-python",
   "name": "python",
   "nbconvert_exporter": "python",
   "pygments_lexer": "ipython3",
   "version": "3.9.13"
  }
 },
 "nbformat": 4,
 "nbformat_minor": 4
}
