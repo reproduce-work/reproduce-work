{
 "cells": [
  {
   "cell_type": "markdown",
   "metadata": {},
   "source": [
    "# save dynamic data\n",
    "\n",
    "> Fill in a module description here"
   ]
  },
  {
   "cell_type": "code",
   "execution_count": null,
   "metadata": {},
   "outputs": [],
   "source": [
    "#| default_exp dynamic"
   ]
  },
  {
   "cell_type": "code",
   "execution_count": null,
   "metadata": {},
   "outputs": [],
   "source": [
    "#| hide\n",
    "from nbdev.showdoc import *"
   ]
  },
  {
   "cell_type": "code",
   "execution_count": null,
   "metadata": {},
   "outputs": [],
   "source": []
  },
  {
   "cell_type": "code",
   "execution_count": null,
   "metadata": {},
   "outputs": [],
   "source": [
    "#| export\n",
    "import toml\n",
    "import os\n",
    "from pathlib import Path\n",
    "from dotenv import load_dotenv\n",
    "import sys\n",
    "\n",
    "load_dotenv()\n",
    "reproduce_dir = os.getenv(\"REPROWORKDIR\", Path(\"./reproduce\"))\n",
    "dev_image_tag = os.getenv(\"REPRODEVIMAGE\")\n",
    "\n",
    "import toml\n",
    "\n",
    "def save():\n",
    "    # Get all global variables\n",
    "    all_globals = globals()\n",
    "    \n",
    "    # Filter out built-in and system-related entries (e.g., functions, modules)\n",
    "    # You might need to add more filtering depending on your environment\n",
    "    filtered_globals = {k: v for k, v in all_globals.items() if not k.startswith(\"_\") and not callable(v) and type(v).__name__ != 'module'}\n",
    "    \n",
    "    # Check if the code is being executed in an interactive notebook environment or in a script environment\n",
    "    if 'ipykernel' in sys.modules:\n",
    "        # If executed in an interactive notebook environment, print the output\n",
    "        print(toml.dumps(filtered_globals))\n",
    "    else:\n",
    "        # If executed in a script environment, save the output to a file\n",
    "        with open('globals.toml', 'w') as f:\n",
    "            f.write(toml.dumps(filtered_globals))\n",
    "\n",
    "# Test\n",
    "x = 10\n",
    "y = \"Hello\"\n",
    "z = [1, 2, 3]\n",
    "\n",
    "save()\n"
   ]
  },
  {
   "cell_type": "code",
   "execution_count": null,
   "metadata": {},
   "outputs": [],
   "source": [
    "#| hide\n",
    "import nbdev; nbdev.nbdev_export()"
   ]
  }
 ],
 "metadata": {
  "kernelspec": {
   "display_name": "python3",
   "language": "python",
   "name": "python3"
  }
 },
 "nbformat": 4,
 "nbformat_minor": 4
}
