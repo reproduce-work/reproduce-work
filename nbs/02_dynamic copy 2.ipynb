{
 "cells": [
  {
   "cell_type": "markdown",
   "metadata": {},
   "source": [
    "# dynamic\n",
    "\n",
    "> This code helps users automatically save, timestamp, and eventually source trace a specific set of data for publication."
   ]
  },
  {
   "cell_type": "code",
   "execution_count": null,
   "metadata": {},
   "outputs": [],
   "source": [
    "#| default_exp dynamic"
   ]
  },
  {
   "cell_type": "code",
   "execution_count": 2,
   "metadata": {},
   "outputs": [],
   "source": [
    "#| hide\n",
    "from nbdev.showdoc import *"
   ]
  },
  {
   "cell_type": "code",
   "execution_count": 1,
   "metadata": {},
   "outputs": [
    {
     "data": {
      "text/plain": [
       "6"
      ]
     },
     "execution_count": 1,
     "metadata": {},
     "output_type": "execute_result"
    }
   ],
   "source": [
    "2+4"
   ]
  },
  {
   "cell_type": "code",
   "execution_count": 4,
   "metadata": {},
   "outputs": [
    {
     "name": "stdout",
     "output_type": "stream",
     "text": [
      "Setting reproduce.work config dir to ./reproduce\n"
     ]
    }
   ],
   "source": [
    "#| export\n",
    "import datetime\n",
    "import os\n",
    "import sys\n",
    "import platform\n",
    "from dotenv import load_dotenv\n",
    "from pathlib import Path\n",
    "\n",
    "load_dotenv()\n",
    "def set_default_dir():\n",
    "    print('Setting reproduce.work config dir to ./reproduce')\n",
    "    return Path(\"./reproduce\")\n",
    "\n",
    "reproduce_dir = os.getenv(\"REPROWORKDIR\", set_default_dir())\n",
    "dev_image_tag = os.getenv(\"REPRODEVIMAGE\")\n",
    "\n",
    "def read_base_config():\n",
    "    with open(Path(reproduce_dir, 'config.toml'), 'r') as f:\n",
    "        base_config = toml.load(f)\n",
    "    return base_config\n",
    "\n",
    "def update_watched_files(add=[], remove=[]):\n",
    "    base_config = read_base_config()\n",
    "    existing_files = base_config['repro']['files']['watch']\n",
    "    new_files = existing_files + [a for a in add if a not in existing_files]\n",
    "    new_files = [f for f in new_files if f not in remove]\n",
    "    base_config['repro']['files']['watch'] = new_files\n",
    "\n",
    "    current_develop_script = base_config['repro']['stage']['develop']['script']\n",
    "    current_develop_script\n",
    "    # regex to replace content in string matching 'watcher \\\"{to_replace}\\\"'\n",
    "    # with 'watcher \\\"{new_files}\\\"'\n",
    "    # and replace 'build_cmd' with 'python reproduce_work.build()'\n",
    "    import re\n",
    "    new_develop_script = re.sub(\n",
    "        r'watcher \\\"(.*?)\\\"', \n",
    "        f'watcher \\\"{\",\".join(new_files)}\\\"', \n",
    "        current_develop_script\n",
    "    )\n",
    "    base_config['repro']['stage']['develop']['script'] = new_develop_script\n",
    "\n",
    "    with open(Path(reproduce_dir, 'config.toml'), 'w') as f:\n",
    "        toml.dump(base_config, f)\n",
    "        \n",
    "    if base_config['repro']['verbose']:\n",
    "        print(f\"Updated watched files to {new_files}\")\n",
    "    return new_files\n",
    "\n",
    "def validate_base_config(base_config):\n",
    "    required_keys = ['authors', 'repro']\n",
    "    for key in required_keys:\n",
    "        if key not in base_config:\n",
    "            print(toml.dumps(base_config))\n",
    "            print(f\"Error: Missing required field '{key}' in config.toml\")\n",
    "            return False\n",
    "        if key=='repro':\n",
    "            if 'stages' not in base_config['repro']:\n",
    "                print(f\"Error: Missing required field 'repro.stages' in reproduce.work configuration at {reproduce_dir}/config.toml\")\n",
    "                return False\n",
    "            for stage in base_config['repro']['stages']:\n",
    "                if (f'repro.stage.{stage}' not in base_config) and (stage not in base_config['repro']['stage']):\n",
    "                    print(toml.dumps(base_config))\n",
    "                    print(f\"Error: Missing required field repro.stage.{stage} in reproduce.work configuration at {reproduce_dir}/config.toml\")\n",
    "                    return False\n",
    "    return True\n",
    "\n",
    "def requires_config(func):\n",
    "    def wrapper(*args, **kwargs):\n",
    "        config = read_base_config()\n",
    "        if not validate_base_config(config):\n",
    "            raise Exception(\"Your reproduce.work configuration is not valid.\")\n",
    "        return func(*args, **kwargs)\n",
    "    return wrapper\n",
    "\n",
    "@requires_config\n",
    "def register_notebook(notebook_name, notebook_dir='nbs'):\n",
    "    \"\"\"\n",
    "    Register a notebook to the config.toml file.\n",
    "    \"\"\"\n",
    "    notebook_path = notebook_dir + '/' + notebook_name\n",
    "    base_config = read_base_config()\n",
    "    \n",
    "    # ensure notebook key exists\n",
    "    if 'notebooks' not in base_config['repro']:\n",
    "        base_config['repro']['notebooks'] = []\n",
    "\n",
    "    if notebook_name not in base_config['repro']['notebooks']:\n",
    "        base_config['repro']['notebooks'].append(notebook_path)\n",
    "        with open(Path(reproduce_dir, 'config.toml'), 'w') as f:\n",
    "            toml.dump(base_config, f)\n",
    "        if base_config['repro']['verbose']:\n",
    "            print(f\"Registered notebook {notebook_path} in {reproduce_dir}/config.toml\")\n",
    "    else:\n",
    "        if base_config['repro']['verbose']:\n",
    "            print(f\"Notebook {notebook_path} already registered in {reproduce_dir}/config.toml\")\n",
    "\n",
    "VAR_REGISTRY = {}\n"
   ]
  },
  {
   "cell_type": "code",
   "execution_count": 4,
   "metadata": {},
   "outputs": [],
   "source": [
    "#generate_config()"
   ]
  },
  {
   "cell_type": "code",
   "execution_count": null,
   "metadata": {},
   "outputs": [],
   "source": []
  },
  {
   "cell_type": "code",
   "execution_count": null,
   "metadata": {},
   "outputs": [],
   "source": []
  },
  {
   "cell_type": "code",
   "execution_count": 48,
   "metadata": {},
   "outputs": [],
   "source": []
  },
  {
   "cell_type": "code",
   "execution_count": 5,
   "metadata": {},
   "outputs": [
    {
     "ename": "NameError",
     "evalue": "name 'publish_variable' is not defined",
     "output_type": "error",
     "traceback": [
      "\u001b[0;31m---------------------------------------------------------------------------\u001b[0m",
      "\u001b[0;31mNameError\u001b[0m                                 Traceback (most recent call last)",
      "\u001b[1;32m/Users/alexmill/Code/reproduce-work-dev/reproduce-work/nbs/02_dynamic copy 2.ipynb Cell 10\u001b[0m line \u001b[0;36m1\n\u001b[0;32m----> <a href='vscode-notebook-cell:/Users/alexmill/Code/reproduce-work-dev/reproduce-work/nbs/02_dynamic%20copy%202.ipynb#X12sZmlsZQ%3D%3D?line=0'>1</a>\u001b[0m publish_variable(\u001b[39m67890\u001b[39m, \u001b[39m\"\u001b[39m\u001b[39mtest_var_timestamp_1\u001b[39m\u001b[39m\"\u001b[39m)  \u001b[39m# This should capture this line number and timestamp\u001b[39;00m\n\u001b[1;32m      <a href='vscode-notebook-cell:/Users/alexmill/Code/reproduce-work-dev/reproduce-work/nbs/02_dynamic%20copy%202.ipynb#X12sZmlsZQ%3D%3D?line=1'>2</a>\u001b[0m publish_variable(\u001b[39m\"\u001b[39m\u001b[39mHello again!\u001b[39m\u001b[39m\"\u001b[39m, \u001b[39m\"\u001b[39m\u001b[39mtest_var_timestamp_2\u001b[39m\u001b[39m\"\u001b[39m)  \u001b[39m# And this line number and timestamp\u001b[39;00m\n\u001b[1;32m      <a href='vscode-notebook-cell:/Users/alexmill/Code/reproduce-work-dev/reproduce-work/nbs/02_dynamic%20copy%202.ipynb#X12sZmlsZQ%3D%3D?line=3'>4</a>\u001b[0m VAR_REGISTRY\n",
      "\u001b[0;31mNameError\u001b[0m: name 'publish_variable' is not defined"
     ]
    }
   ],
   "source": [
    "publish_variable(67890, \"test_var_timestamp_1\")  # This should capture this line number and timestamp\n",
    "publish_variable(\"Hello again!\", \"test_var_timestamp_2\")  # And this line number and timestamp\n",
    "\n",
    "VAR_REGISTRY"
   ]
  },
  {
   "cell_type": "code",
   "execution_count": 50,
   "metadata": {},
   "outputs": [
    {
     "name": "stdout",
     "output_type": "stream",
     "text": [
      "name = \"John\"\n",
      "\n",
      "name = \"John\"\n",
      "age = 28\n",
      "\n",
      "age = 28\n",
      "is_student = False\n",
      "\n",
      "is_student = False\n",
      "scores = [85, 90, 78, 92]\n",
      "\n",
      "scores = [85, 90, 78, 92]\n",
      "birthday = \"2000-01-01 00:00:00\"\n",
      "\n",
      "birthday = \"2000-01-01 00:00:00\"\n",
      "matrix = [[1 2], [3 4]]\n",
      "\n",
      "[df]\n",
      "[dataframe]\n",
      "A = [1, 2, 3]\n",
      "B = [\"a\", \"b\", \"c\"]\n",
      "date = [\"2022-01-01 00:00:00\", \"2022-01-02 00:00:00\", \"2022-01-03 00:00:00\"]\n",
      "\n",
      "[nested_dict]\n",
      "key1 = \"value1\"\n",
      "\n",
      "key1 = \"value1\"\n",
      "[sub_dict]\n",
      "sub_key = \"sub_value\"\n",
      "\n",
      "sub_key = \"sub_value\"\n",
      "\n",
      "\n",
      "none_value = null\n",
      "\n",
      "none_value = null\n"
     ]
    }
   ],
   "source": [
    "\n",
    "# Test the unified function\n",
    "data_sample = {\n",
    "    'name': 'John',\n",
    "    'age': 28,\n",
    "    'is_student': False,\n",
    "    'scores': [85, 90, 78, 92],\n",
    "    'birthday': pd.Timestamp('2000-01-01'),\n",
    "    'matrix': np.array([[1, 2], [3, 4]]),\n",
    "    'df': pd.DataFrame({\n",
    "        'A': [1, 2, 3],\n",
    "        'B': ['a', 'b', 'c'],\n",
    "        'date': [pd.Timestamp('2022-01-01'), pd.Timestamp('2022-01-02'), pd.Timestamp('2022-01-03')]\n",
    "    }),\n",
    "    'nested_dict': {\n",
    "        'key1': 'value1',\n",
    "        'sub_dict': {\n",
    "            'sub_key': 'sub_value'\n",
    "        }\n",
    "    },\n",
    "    'none_value': None\n",
    "}\n",
    "\n",
    "toml_representation = serialize_to_toml(data_sample)\n",
    "print(toml_representation)"
   ]
  },
  {
   "cell_type": "code",
   "execution_count": 53,
   "metadata": {},
   "outputs": [
    {
     "name": "stdout",
     "output_type": "stream",
     "text": [
      "[p_value_str]\n",
      "description = \"The p-value of the coefficient on the slope of the linear regression line.\"\n",
      "type = \"string\"\n",
      "timestamp = \"2023-10-02T05:48:29.589004\"\n",
      "value = \"0.068\"\n",
      "\n",
      "[x]\n",
      "description = \"The simulated X data\"\n",
      "units = \"kilograms\"\n",
      "type = \"data\"\n",
      "timestamp = \"2023-10-02T05:48:30.171394\"\n",
      "content_hash = \"38f13b81a58a7d931600e917d77dfe8f\"\n",
      "timed_hash = \"653424a8be5d8ff5d5d6d9a38baeb26f\"\n",
      "value = \"array = [-0.15438854676085806, -0.5912841266673995, 1.3457620267806991, -0.3085476927297975, -0.35074090433304067, -1.343721369940541, -0.41860346256356656, 2.392890531248967, 0.22032854237060082, 0.7867023188803995, 0.08878384294999392, 0.6565087673201803, 0.2412729155438198, 0.6854353883101262, 2.153899580706892, 0.649925720150528, 1.127458119203137, -0.6357927443286684, 0.3077660698412044, -1.6328895355458346, 0.567227693439327, -0.21246173380662106, -0.7203897514131021, 0.5952129857137533, 0.18819499630282482, -0.8834998061258611, 0.7379945086294778, -0.8471634166162177, 0.07930983762624676, -0.10076438386878037, 0.4738798861563753, -0.10847987920496371, -1.16728052821831, 0.19401114268043276, -1.8697690072012825, -0.6079795737042001, -0.46088161234713115, 2.8744072140185186, 0.5779526555390606, 0.18642158999690325, -2.309463070393277, 0.9160646628168791, -0.036987499173112684, -0.6186664971219734, -0.7375207406586269, -0.3364114042058939, 0.6487550984010515, 0.7211593530346008, -3.0024570001024453, 0.20827750750261484, -0.9184527060704434, -0.5672153127477911, 0.31933453622980007, -0.37561851948771674, -0.11011613613998829, -2.5786876868233346, -2.2352575258690286, -0.14238353838147055, -0.7776623814911557, -0.12899276868200904, 0.821021437212202, 0.18632478617667347, 1.6469255261436233, 0.30333446984835577, -0.2888772687627644, 0.4875026119003026, 0.2806902509255848, -0.7998526623370962, 0.5301005871453163, 0.6998691293042977, -0.08461487877674735, -0.6322047366002711, -0.9348762425303966, -0.3857949711398192, 0.7758631517211686, 1.522836840694002, 0.25484897092674863, 2.0472839024926945, -0.548936278321665, 0.34845246870820656, -1.7722932107691587, 1.888704309449281, -1.1123418283924837, 1.3957453427395787, -0.8294367151092402, -1.1699534011438901, 1.0257270873514317, 0.7725006923281748, 0.3168385924779005, -0.30234878342901056, -0.1751641272612662, 0.3708234523019773, -2.3638133220013833, -0.4096668642141042, -0.4503293983368002, 0.03271836277038858, -1.4370887475738319, 0.19926882906384208, -0.08950771441073352, 0.4128495165175878]\\n\"\n",
      "\n",
      "[y]\n",
      "description = \"The simulated Y data\"\n",
      "units = \"meters\"\n",
      "type = \"data\"\n",
      "timestamp = \"2023-10-02T05:48:30.593848\"\n",
      "content_hash = \"f8945d4c03988df0cd59c181035e86a9\"\n",
      "timed_hash = \"621b8ede807a5bad8e2ac276732b619f\"\n",
      "value = \"array = [6.157526466969694, -9.302292211258417, -13.445653295124679, -8.631538800322812, 6.90483152433306, 5.207550454217913, 0.16281392537419195, 11.328419829563888, 22.478972058029154, 8.09134242274941, 5.073777096618679, 10.521865081855475, -16.790794925289998, -8.771064388620061, 4.0201332562739776, 5.117579323047639, 7.625083590549531, 3.8773345015463985, -3.928796702192886, -14.12618901867805, 15.719046636739415, -6.9901326969788835, -1.2697524315402995, 16.200579300476225, 4.653298124929337, 15.260286007217859, -8.66974802826228, 17.391748658118644, -11.979777143905922, -9.165369928333158, -10.066499099879193, 6.630265916533632, 5.597192274467069, 21.121094702481354, -0.37289209663747613, -10.093484219122008, -6.178013487751987, 4.612879529582713, -6.7221265756959445, 1.5429361341495342, -15.542297438913536, -6.9087508309560315, -5.756954497072782, 0.9567354246293611, -14.214770323986233, -12.709171551566424, 4.786356565840399, -4.890780892875197, -3.6073631505593395, 7.0359632267386765, -0.24241139306973603, -3.9167058403914647, 16.71776645328651, -14.815178430705346, -1.711860745824135, -10.08015043115352, -13.900633437259023, -27.590693317580115, 2.4225289380487824, 0.4100939029862429, -14.009201312069894, 26.99576623694627, 8.292226202794245, -16.51426094603318, -2.931299487241554, -3.06749774639879, -2.457980870324348, -11.765930634755847, -1.7957980955875312, 3.947583774063118, 1.7788813956475347, -1.513133427837522, 21.831572921844153, 7.891774924891347, -6.6299731645332045, 14.88059560881568, -14.321343993977925, 4.842025745064475, -18.45138246049829, -2.5286695131892367, 26.92858990370225, 14.990430393073257, -6.687320844036032, -6.3145713683066536, -1.865395572103326, 0.29997911599165183, 2.094399418593174, 5.231357076332482, -10.36763582996726, 1.6895152163357683, 6.181719576405759, -10.030869854369993, -14.337403366313984, 6.834137681527773, 7.186270591613762, -1.9468050084023705, 9.311246589228013, 0.08957849212100343, -4.817637123369896, 7.997470135737686]\\n\"\n",
      "\n",
      "[\"reproducible_plot.svg\"]\n",
      "description = \"A plot of X vs Y\"\n",
      "type = \"file\"\n",
      "timestamp = \"2023-10-02T05:48:31.073197\"\n",
      "content_hash = \"0b0d960e2a7606498a13a60389f9f360\"\n",
      "timed_hash = \"10996cbe5ac2e5296f3736a4723753dc\"\n",
      "\n",
      "[test_var_timestamp_1]\n",
      "type = \"string\"\n",
      "timestamp = \"2023-10-02T05:50:16.028845\"\n",
      "value = \"67890\"\n",
      "\n",
      "[test_var_timestamp_2]\n",
      "type = \"string\"\n",
      "timestamp = \"2023-10-02T05:50:16.038555\"\n",
      "value = \"Hello again!\"\n",
      "\n"
     ]
    }
   ],
   "source": [
    "config = read_base_config()\n",
    "with open(config['repro']['files']['dynamic'], 'r') as file:\n",
    "    dynamic_data = toml.load(file)\n",
    "print(toml.dumps(dynamic_data))"
   ]
  },
  {
   "cell_type": "code",
   "execution_count": null,
   "metadata": {},
   "outputs": [],
   "source": []
  },
  {
   "cell_type": "code",
   "execution_count": null,
   "metadata": {},
   "outputs": [],
   "source": []
  },
  {
   "cell_type": "code",
   "execution_count": 17,
   "metadata": {},
   "outputs": [],
   "source": [
    "# Test the save function\n",
    "test_content = \"This is a test content for the save function.\""
   ]
  },
  {
   "cell_type": "code",
   "execution_count": 18,
   "metadata": {},
   "outputs": [
    {
     "data": {
      "application/javascript": "IPython.notebook.kernel.execute('current_cell_index = ' + IPython.notebook.get_selected_index())",
      "text/plain": [
       "<IPython.core.display.Javascript object>"
      ]
     },
     "metadata": {},
     "output_type": "display_data"
    },
    {
     "name": "stdout",
     "output_type": "stream",
     "text": [
      "Updated watched files to ['reproduce/main.md', 'reproduce/data.toml', 'reproduce/latex/template.tex', 'saved_file.txt']\n"
     ]
    },
    {
     "data": {
      "text/plain": [
       "{'type': 'file',\n",
       " 'timestamp': '2023-10-02T02:11:11.082654',\n",
       " 'content_hash': 'd1866c6aa7d10eb57a35cc88a77802c5',\n",
       " 'timed_hash': 'f9293765bd6cc1e991407203aa7da511'}"
      ]
     },
     "execution_count": 18,
     "metadata": {},
     "output_type": "execute_result"
    }
   ],
   "source": [
    "metadata = save(test_content, \"saved_file.txt\")\n",
    "metadata"
   ]
  },
  {
   "cell_type": "code",
   "execution_count": null,
   "metadata": {},
   "outputs": [],
   "source": []
  },
  {
   "cell_type": "code",
   "execution_count": null,
   "metadata": {},
   "outputs": [],
   "source": []
  },
  {
   "cell_type": "code",
   "execution_count": null,
   "metadata": {},
   "outputs": [],
   "source": []
  },
  {
   "cell_type": "code",
   "execution_count": 12,
   "metadata": {},
   "outputs": [],
   "source": [
    "# Test\n",
    "#x = 10\n",
    "#y = \"Hello\"\n",
    "#z = [1, 2, 3]\n",
    "#save()"
   ]
  },
  {
   "cell_type": "code",
   "execution_count": 13,
   "metadata": {},
   "outputs": [],
   "source": [
    "#| hide\n",
    "import nbdev; nbdev.nbdev_export()"
   ]
  },
  {
   "cell_type": "code",
   "execution_count": null,
   "metadata": {},
   "outputs": [],
   "source": []
  },
  {
   "cell_type": "code",
   "execution_count": null,
   "metadata": {},
   "outputs": [],
   "source": []
  }
 ],
 "metadata": {
  "kernelspec": {
   "display_name": "Python 3 (ipykernel)",
   "language": "python",
   "name": "python3"
  },
  "language_info": {
   "codemirror_mode": {
    "name": "ipython",
    "version": 3
   },
   "file_extension": ".py",
   "mimetype": "text/x-python",
   "name": "python",
   "nbconvert_exporter": "python",
   "pygments_lexer": "ipython3",
   "version": "3.9.13"
  }
 },
 "nbformat": 4,
 "nbformat_minor": 4
}
